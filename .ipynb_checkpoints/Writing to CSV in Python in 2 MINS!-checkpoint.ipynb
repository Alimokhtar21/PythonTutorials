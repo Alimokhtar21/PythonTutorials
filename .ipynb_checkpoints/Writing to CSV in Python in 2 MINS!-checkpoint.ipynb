{
 "cells": [
  {
   "cell_type": "code",
   "execution_count": 14,
   "metadata": {},
   "outputs": [],
   "source": [
    "# First thing we need to do is import the python csv library\n",
    "import csv\n",
    "#--------------------------------------------------------------------#\n",
    "# create a new file, \n",
    "#open to write mode, \n",
    "#because we're creating a file object we open with newline=''\n",
    "#--------------------------------------------------------------------#\n",
    "\n",
    "colours = {\"red\", \"blue\", \"yellow\", \"green\"}\n",
    "numbers = {\"one\", \"two\", \"three\", \"four\"}\n",
    "colour_count = 0\n",
    "\n",
    "with open('tutorial.csv', 'w', newline='') as csvfile:\n",
    "    \n",
    "    # include the names for each column/feature\n",
    "    fieldnames = ['number','colour']\n",
    "    \n",
    "    # create a writer object that takes the csv file and fieldnames as parameters.\n",
    "    thewriter = csv.DictWriter(csvfile, fieldnames=fieldnames)\n",
    "    \n",
    "    thewriter.writeheader()\n",
    "    for colour in colours:\n",
    "        colour_count += 1\n",
    "        thewriter.writerow({'number':colour_count, 'colour': colour})"
   ]
  },
  {
   "cell_type": "code",
   "execution_count": null,
   "metadata": {},
   "outputs": [],
   "source": []
  }
 ],
 "metadata": {
  "kernelspec": {
   "display_name": "tensorflow-gpu",
   "language": "python",
   "name": "tensorflow-gpu"
  },
  "language_info": {
   "codemirror_mode": {
    "name": "ipython",
    "version": 3
   },
   "file_extension": ".py",
   "mimetype": "text/x-python",
   "name": "python",
   "nbconvert_exporter": "python",
   "pygments_lexer": "ipython3",
   "version": "3.6.7"
  }
 },
 "nbformat": 4,
 "nbformat_minor": 2
}
